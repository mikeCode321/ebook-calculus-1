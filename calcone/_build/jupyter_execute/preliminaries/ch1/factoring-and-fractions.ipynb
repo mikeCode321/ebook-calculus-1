{
 "cells": [
  {
   "cell_type": "markdown",
   "id": "a202491c",
   "metadata": {},
   "source": [
    "# Factoring and Fractions\n",
    "\n",
    "## Factoring\n",
    "When we want to expand an expression in factored form we \"un-multiply.\" This is often useful when trying to simplify an expression. Another way to put it is reversing the distributive law.\n",
    "\n",
    "There are essentially 2 fundamental ways of expanding an expression. One of which is to directly remove a common factor from each of the terms in the expression. \n",
    "\n",
    "```{note}\n",
    "A **term(s)** is the building block of an algebraic expression. It can be:\n",
    "- A **constant**: A fixed number without any variables (e.g., \\( 5 \\)).\n",
    "- A **variable**: A symbol representing an unknown value (e.g., \\( x \\)).\n",
    "- The **product** of numbers and variables (e.g., \\( 3x \\) or \\( 2x^2 \\)).\n",
    "```\n",
    "\n",
    "### Removing Common Factors\n",
    "\n",
    "(1) $ab + ac = a(b + c)$ <br>\n",
    "(2) $-a-b = -(a + b)$ <br>\n",
    "(3) $(a-b) = -(b - a)$ <br>\n",
    "\n",
    "Notice that in the above expressions we are removing common factors such as **a** from expression 1 and **-** which is -1 from expressions 2 and 3. The 3rd expressions negative sign (-1) is factored out to reverse the order of subtraction, turning (a − b) into −(b − a). \n",
    "\n",
    "As a training exercise try distributing the common factor we took out on the right side of the expression (i.e., a(b+c)) and see if you end up with the left side of the expression. \n",
    "\n",
    "### Exercises \n",
    "(1) Simplify: $\\frac{2}{3}x^{2}y + \\frac{4}{3}xy$\n",
    "\n",
    "```{dropdown} Answer\n",
    "  $\\frac{2}{3}xy(x + 2)$\n",
    "```\n",
    "\n",
    "(2) Simplify: $(2x + 1)x^3 - 3x(2x + 1)$\n",
    "\n",
    "```{dropdown} Answer\n",
    "  $(2x + 1)(x^3 - 3x)$ = $x(x^2 - 3)(2x + 1)$\n",
    "```\n",
    "\n",
    "(3) Simplify: $-\\frac{s^{2}t}{8w} - \\frac{st^{2}}{16w}$\n",
    "\n",
    "```{dropdown} Answer\n",
    "  $-\\frac{st}{8w}(s + \\frac{t}{2})$\n",
    "```\n",
    "\n",
    "### Grouping Terms\n",
    "There will be scenarios where all terms in an expression won't have a common factor. What you can try to do first is; visually inspect the expression and group terms that are able to produce a common factor.\n",
    "\n",
    "**Example:** <br>\n",
    "$x^{2} - hx - x + h$ = $(x^{2} - hx) - (x - h)$ = $x(x - h) - (x - h)$ = $(x - h)(x - 1)$\n",
    "\n",
    "### Exercises \n",
    "(1) Simplify: $-\\frac{s^{2}t}{8w} - \\frac{st^{2}}{16w}$\n",
    "\n",
    "```{dropdown} Answer\n",
    "  $-\\frac{st}{8w}(s + \\frac{t}{2})$\n",
    "```\n",
    "\n",
    "(2) Simplify: $x^{5}y^{2} + 2y^{3} + 2x^{5} + 4y$\n",
    "\n",
    "```{dropdown} Answer\n",
    "  $y^2(x^{5} + 2y) + (2x^{5} + 4y)$ = $y^2(x^{5} + 2y) + 2(x^{5} + 2y)$ = $(x^{5} + 2y)(y^{2} + 2)$\n",
    "```\n",
    "\n",
    "### Factoring Quadratics\n",
    "\n",
    "\n",
    "\n",
    "\n",
    "\n",
    "## Fractions\n",
    "\n",
    "### TEST2\n",
    "\n",
    "SADFASDF"
   ]
  }
 ],
 "metadata": {
  "jupytext": {
   "formats": "md:myst",
   "text_representation": {
    "extension": ".md",
    "format_name": "myst",
    "format_version": 0.13,
    "jupytext_version": "1.11.5"
   }
  },
  "kernelspec": {
   "display_name": "Python 3",
   "language": "python",
   "name": "python3"
  },
  "language_info": {
   "codemirror_mode": {
    "name": "ipython",
    "version": 3
   },
   "file_extension": ".py",
   "mimetype": "text/x-python",
   "name": "python",
   "nbconvert_exporter": "python",
   "pygments_lexer": "ipython3",
   "version": "3.10.7"
  },
  "source_map": [
   13
  ]
 },
 "nbformat": 4,
 "nbformat_minor": 5
}